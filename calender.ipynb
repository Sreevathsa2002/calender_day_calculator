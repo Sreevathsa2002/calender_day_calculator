{
 "cells": [
  {
   "cell_type": "code",
   "execution_count": 1,
   "id": "8a2cf0f4",
   "metadata": {},
   "outputs": [],
   "source": [
    "def calender(date,month,year):\n",
    "    year1=year\n",
    "    c=0\n",
    "    odd_days=0\n",
    "    odddays_day={0:\"sunday\",1:\"monday\",2:\"tuesday\",3:\"wednesday\",4:\"thursday\",5:\"friday\",6:\"saturday\"}\n",
    "    if year%4==0 and (year%400==0 or year%100!=0):\n",
    "        month_days={1:31,2:29,3:31,4:30,5:31,6:30,7:31,8:31,9:30,10:31,11:30,12:31}\n",
    "    else:\n",
    "        month_days={1:31,2:28,3:31,4:30,5:31,6:30,7:31,8:31,9:30,10:31,11:30,12:31}\n",
    "    if year>400:\n",
    "        year=year%400\n",
    "    if year>100:\n",
    "        c=0\n",
    "        while year>100:\n",
    "            year-=100\n",
    "            c+=5\n",
    "    odd_days+=c\n",
    "    r1=(year-1)//4\n",
    "    odd_days+=(2*r1)\n",
    "    r2=(year-1)-r1\n",
    "    odd_days+=r2\n",
    "    odd_days=odd_days%7\n",
    "    sumi=0\n",
    "    i=1\n",
    "    while i<month:\n",
    "        sumi+=month_days[i]\n",
    "        i+=1\n",
    "    sumi+=date\n",
    "    ans1=sumi%7\n",
    "    odd_days+=ans1\n",
    "    ans=odd_days%7\n",
    "    return odddays_day[ans]"
   ]
  },
  {
   "cell_type": "code",
   "execution_count": 2,
   "id": "b0b50123",
   "metadata": {},
   "outputs": [],
   "source": [
    "def day_calculator():\n",
    "    print(\"please enter only integers excluding leading zeros\")\n",
    "    date=int(input(\"enter the date\"))\n",
    "    month=int(input(\"enter the month in number Ex:january=1\"))\n",
    "    year=int(input(\"enter the year\"))\n",
    "    return calender(date,month,year)\n",
    "        "
   ]
  },
  {
   "cell_type": "code",
   "execution_count": 3,
   "id": "e1b880db",
   "metadata": {},
   "outputs": [
    {
     "name": "stdout",
     "output_type": "stream",
     "text": [
      "please enter only integers excluding leading zeros\n",
      "enter the date3\n",
      "enter the month in number Ex:january=11\n",
      "enter the year2024\n"
     ]
    },
    {
     "data": {
      "text/plain": [
       "'wednesday'"
      ]
     },
     "execution_count": 3,
     "metadata": {},
     "output_type": "execute_result"
    }
   ],
   "source": [
    "day_calculator()"
   ]
  },
  {
   "cell_type": "code",
   "execution_count": null,
   "id": "58113420",
   "metadata": {},
   "outputs": [],
   "source": []
  },
  {
   "cell_type": "code",
   "execution_count": null,
   "id": "cf177886",
   "metadata": {},
   "outputs": [],
   "source": []
  },
  {
   "cell_type": "code",
   "execution_count": null,
   "id": "c8cef79d",
   "metadata": {},
   "outputs": [],
   "source": []
  }
 ],
 "metadata": {
  "kernelspec": {
   "display_name": "Python 3 (ipykernel)",
   "language": "python",
   "name": "python3"
  },
  "language_info": {
   "codemirror_mode": {
    "name": "ipython",
    "version": 3
   },
   "file_extension": ".py",
   "mimetype": "text/x-python",
   "name": "python",
   "nbconvert_exporter": "python",
   "pygments_lexer": "ipython3",
   "version": "3.9.7"
  }
 },
 "nbformat": 4,
 "nbformat_minor": 5
}
